{
 "cells": [
  {
   "cell_type": "markdown",
   "metadata": {},
   "source": [
    "### I created a swarmplot for any protein where there was significant difference between SHAM and RYGB expression"
   ]
  },
  {
   "cell_type": "code",
   "execution_count": 1,
   "metadata": {},
   "outputs": [],
   "source": [
    "#dependencies\n",
    "import matplotlib.pyplot as plt\n",
    "import pandas as pd\n",
    "import numpy as np\n",
    "import seaborn as sns"
   ]
  },
  {
   "cell_type": "code",
   "execution_count": 2,
   "metadata": {},
   "outputs": [],
   "source": [
    "file = pd.ExcelFile('SWATH_rawdata.xlsx')"
   ]
  },
  {
   "cell_type": "code",
   "execution_count": 3,
   "metadata": {},
   "outputs": [],
   "source": [
    "SWATH_df=pd.read_excel('SWATH_rawdata.xlsx',sheet_name = 'Calculations', header = None)\n",
    "SWATH_matrix = SWATH_df.values"
   ]
  },
  {
   "cell_type": "code",
   "execution_count": 4,
   "metadata": {},
   "outputs": [],
   "source": [
    "def swarmPlot(Dataset,Protein):\n",
    "    ax = sns.swarmplot (x = \"Type\", y = \"Score\", data = Dataset)\n",
    "    plt.title('Significant Expression: ' + str(Protein))\n",
    "    plt.savefig('significant_expression/' + str(Protein) +'.png')"
   ]
  },
  {
   "cell_type": "code",
   "execution_count": 8,
   "metadata": {},
   "outputs": [
    {
     "data": {
      "image/png": "[encoded data removed]",
      "text/plain": [
       "<Figure size 432x288 with 1 Axes>"
      ]
     },
     "metadata": {
      "needs_background": "light"
     },
     "output_type": "display_data"
    }
   ],
   "source": [
    "for j in range(1,1378):\n",
    "    if SWATH_matrix[j,28]<0.01:\n",
    "        \n",
    "        RYGB = np.array(SWATH_matrix[j,3:9]).tolist()\n",
    "        SHAM = np.array(SWATH_matrix[j,9:15]).tolist()\n",
    "\n",
    "        score_list =RYGB + SHAM\n",
    "        type_list = ['RYGB','RYGB','RYGB','RYGB','RYGB','RYGB','SHAM','SHAM','SHAM','SHAM','SHAM','SHAM']\n",
    "        dataset = pd.DataFrame({'Type':type_list,'Score':score_list})\n",
    "        \n",
    "        swarmPlot(dataset,SWATH_matrix[j,2])\n",
    "        "
   ]
  },
  {
   "cell_type": "code",
   "execution_count": null,
   "metadata": {},
   "outputs": [],
   "source": []
  }
 ],
 "metadata": {
  "kernelspec": {
   "display_name": "Python 3",
   "language": "python",
   "name": "python3"
  },
  "language_info": {
   "codemirror_mode": {
    "name": "ipython",
    "version": 3
   },
   "file_extension": ".py",
   "mimetype": "text/x-python",
   "name": "python",
   "nbconvert_exporter": "python",
   "pygments_lexer": "ipython3",
   "version": "3.7.1"
  }
 },
 "nbformat": 4,
 "nbformat_minor": 2
}
