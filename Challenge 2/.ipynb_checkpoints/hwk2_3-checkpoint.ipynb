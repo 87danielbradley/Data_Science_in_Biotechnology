{
 "cells": [
  {
   "cell_type": "code",
   "execution_count": 1,
   "metadata": {},
   "outputs": [],
   "source": [
    "#Dependencies\n",
    "import pandas as pd\n",
    "import matplotlib.pyplot as plt"
   ]
  },
  {
   "cell_type": "code",
   "execution_count": 2,
   "metadata": {},
   "outputs": [],
   "source": [
    "file = pd.ExcelFile('SWATH_rawdata.xlsx')"
   ]
  },
  {
   "cell_type": "code",
   "execution_count": null,
   "metadata": {},
   "outputs": [],
   "source": []
  },
  {
   "cell_type": "code",
   "execution_count": 3,
   "metadata": {},
   "outputs": [],
   "source": [
    "SWATH_df=pd.read_excel('SWATH_rawdata.xlsx',sheet_name = 'Calculations', header = None)\n",
    "SWATH_matrix = SWATH_df.values"
   ]
  },
  {
   "cell_type": "code",
   "execution_count": 4,
   "metadata": {},
   "outputs": [],
   "source": [
    "new_header = SWATH_df.iloc[0]\n",
    "SWATH_df = SWATH_df[1:]\n",
    "SWATH_df.columns=new_header"
   ]
  },
  {
   "cell_type": "code",
   "execution_count": 5,
   "metadata": {},
   "outputs": [],
   "source": [
    "reduced_SWATH = SWATH_df[[\"Protein name\",\"T Test\",\"pValue Basespace\"]]"
   ]
  },
  {
   "cell_type": "code",
   "execution_count": 6,
   "metadata": {},
   "outputs": [
    {
     "data": {
      "text/html": [
       "<div>\n",
       "<style scoped>\n",
       "    .dataframe tbody tr th:only-of-type {\n",
       "        vertical-align: middle;\n",
       "    }\n",
       "\n",
       "    .dataframe tbody tr th {\n",
       "        vertical-align: top;\n",
       "    }\n",
       "\n",
       "    .dataframe thead th {\n",
       "        text-align: right;\n",
       "    }\n",
       "</style>\n",
       "<table border=\"1\" class=\"dataframe\">\n",
       "  <thead>\n",
       "    <tr style=\"text-align: right;\">\n",
       "      <th></th>\n",
       "      <th>Protein name</th>\n",
       "      <th>T Test</th>\n",
       "      <th>pValue Basespace</th>\n",
       "    </tr>\n",
       "  </thead>\n",
       "  <tbody>\n",
       "    <tr>\n",
       "      <th>1</th>\n",
       "      <td>Transferrin receptor protein 1 (Transferrin re...</td>\n",
       "      <td>1.32463e-06</td>\n",
       "      <td>2.59534e-06</td>\n",
       "    </tr>\n",
       "    <tr>\n",
       "      <th>2</th>\n",
       "      <td>Protein FAM65B</td>\n",
       "      <td>3.45665e-08</td>\n",
       "      <td>1.09531e-05</td>\n",
       "    </tr>\n",
       "    <tr>\n",
       "      <th>3</th>\n",
       "      <td>Retinoid-inducible serine carboxypeptidase (EC...</td>\n",
       "      <td>0.000185361</td>\n",
       "      <td>3.9474e-05</td>\n",
       "    </tr>\n",
       "    <tr>\n",
       "      <th>4</th>\n",
       "      <td>Ferritin</td>\n",
       "      <td>6.21013e-10</td>\n",
       "      <td>0.000525333</td>\n",
       "    </tr>\n",
       "    <tr>\n",
       "      <th>34</th>\n",
       "      <td>Adaptor protein complex AP-2, alpha 1 subunit ...</td>\n",
       "      <td>0.422884</td>\n",
       "      <td>0.000544481</td>\n",
       "    </tr>\n",
       "    <tr>\n",
       "      <th>...</th>\n",
       "      <td>...</td>\n",
       "      <td>...</td>\n",
       "      <td>...</td>\n",
       "    </tr>\n",
       "    <tr>\n",
       "      <th>1374</th>\n",
       "      <td>Proline synthetase co-transcribed (Predicted) ...</td>\n",
       "      <td>0.0551375</td>\n",
       "      <td>0.996797</td>\n",
       "    </tr>\n",
       "    <tr>\n",
       "      <th>1375</th>\n",
       "      <td>Proteasome subunit beta type (EC 3.4.25.1)</td>\n",
       "      <td>0.724606</td>\n",
       "      <td>0.997696</td>\n",
       "    </tr>\n",
       "    <tr>\n",
       "      <th>1376</th>\n",
       "      <td>C-reactive protein</td>\n",
       "      <td>0.838637</td>\n",
       "      <td>0.997718</td>\n",
       "    </tr>\n",
       "    <tr>\n",
       "      <th>1377</th>\n",
       "      <td>Delta-1-pyrroline-5-carboxylate dehydrogenase,...</td>\n",
       "      <td>0.356218</td>\n",
       "      <td>0.998574</td>\n",
       "    </tr>\n",
       "    <tr>\n",
       "      <th>1378</th>\n",
       "      <td>Cofilin-1 (Cofilin, non-muscle isoform)</td>\n",
       "      <td>0.626905</td>\n",
       "      <td>0.998868</td>\n",
       "    </tr>\n",
       "  </tbody>\n",
       "</table>\n",
       "<p>1346 rows × 3 columns</p>\n",
       "</div>"
      ],
      "text/plain": [
       "0                                          Protein name       T Test  \\\n",
       "1     Transferrin receptor protein 1 (Transferrin re...  1.32463e-06   \n",
       "2                                        Protein FAM65B  3.45665e-08   \n",
       "3     Retinoid-inducible serine carboxypeptidase (EC...  0.000185361   \n",
       "4                                              Ferritin  6.21013e-10   \n",
       "34    Adaptor protein complex AP-2, alpha 1 subunit ...     0.422884   \n",
       "...                                                 ...          ...   \n",
       "1374  Proline synthetase co-transcribed (Predicted) ...    0.0551375   \n",
       "1375         Proteasome subunit beta type (EC 3.4.25.1)     0.724606   \n",
       "1376                                 C-reactive protein     0.838637   \n",
       "1377  Delta-1-pyrroline-5-carboxylate dehydrogenase,...     0.356218   \n",
       "1378            Cofilin-1 (Cofilin, non-muscle isoform)     0.626905   \n",
       "\n",
       "0    pValue Basespace  \n",
       "1         2.59534e-06  \n",
       "2         1.09531e-05  \n",
       "3          3.9474e-05  \n",
       "4         0.000525333  \n",
       "34        0.000544481  \n",
       "...               ...  \n",
       "1374         0.996797  \n",
       "1375         0.997696  \n",
       "1376         0.997718  \n",
       "1377         0.998574  \n",
       "1378         0.998868  \n",
       "\n",
       "[1346 rows x 3 columns]"
      ]
     },
     "execution_count": 6,
     "metadata": {},
     "output_type": "execute_result"
    }
   ],
   "source": [
    "reduced_SWATH = reduced_SWATH.dropna()\n",
    "reduced_SWATH.sort_values(by=\"pValue Basespace\")"
   ]
  },
  {
   "cell_type": "code",
   "execution_count": 7,
   "metadata": {
    "scrolled": true
   },
   "outputs": [
    {
     "data": {
      "image/png": "[encoded data removed]",
      "text/plain": [
       "<Figure size 432x288 with 1 Axes>"
      ]
     },
     "metadata": {
      "needs_background": "light"
     },
     "output_type": "display_data"
    }
   ],
   "source": [
    "plt.hist(reduced_SWATH['T Test'])\n",
    "plt.xlabel('experiments')\n",
    "plt.ylabel('pvalue')\n",
    "plt.savefig('ttesthist.png')\n",
    "plt.show()"
   ]
  },
  {
   "cell_type": "code",
   "execution_count": 8,
   "metadata": {},
   "outputs": [
    {
     "data": {
      "image/png": "[encoded data removed]",
      "text/plain": [
       "<Figure size 432x288 with 1 Axes>"
      ]
     },
     "metadata": {
      "needs_background": "light"
     },
     "output_type": "display_data"
    }
   ],
   "source": [
    "plt.hist(reduced_SWATH['T Test'],bins=50)\n",
    "plt.xlabel('experiments')\n",
    "plt.ylabel('pvalue')\n",
    "plt.savefig('ttesthist50bins.png')\n",
    "plt.show()"
   ]
  }
 ],
 "metadata": {
  "kernelspec": {
   "display_name": "Python 3",
   "language": "python",
   "name": "python3"
  },
  "language_info": {
   "codemirror_mode": {
    "name": "ipython",
    "version": 3
   },
   "file_extension": ".py",
   "mimetype": "text/x-python",
   "name": "python",
   "nbconvert_exporter": "python",
   "pygments_lexer": "ipython3",
   "version": "3.7.1"
  }
 },
 "nbformat": 4,
 "nbformat_minor": 2
}
