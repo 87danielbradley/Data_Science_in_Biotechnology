{
 "cells": [
  {
   "cell_type": "markdown",
   "metadata": {},
   "source": [
    "## Creating a list of dictionaries for SWATH proteomics data"
   ]
  },
  {
   "cell_type": "code",
   "execution_count": 1,
   "metadata": {},
   "outputs": [],
   "source": [
    "import pandas as pd"
   ]
  },
  {
   "cell_type": "code",
   "execution_count": 2,
   "metadata": {},
   "outputs": [],
   "source": [
    "SWATH_df=pd.read_excel('SWATH_rawdata.xlsx',sheet_name = 'Calculations', header = None)\n",
    "SWATH_matrix = SWATH_df.values"
   ]
  },
  {
   "cell_type": "code",
   "execution_count": 3,
   "metadata": {},
   "outputs": [
    {
     "data": {
      "text/plain": [
       "array(['SH 27', 'SH 30', 'SH 33', 'SH 37', 'SH 44', 'SH 59'], dtype=object)"
      ]
     },
     "execution_count": 3,
     "metadata": {},
     "output_type": "execute_result"
    }
   ],
   "source": [
    "SWATH_matrix[0,9:15]"
   ]
  },
  {
   "cell_type": "code",
   "execution_count": 4,
   "metadata": {},
   "outputs": [],
   "source": [
    "\n",
    "Master_list = []\n",
    "\n",
    "for j in range(1,len(SWATH_df)):  #1379\n",
    "    \n",
    "    \n",
    "    curr_dict = {}\n",
    "    \n",
    "    RYGB = SWATH_matrix[j][3:9]\n",
    "    SHAM = SWATH_matrix[j][9:15]\n",
    "    \n",
    "    protein = SWATH_matrix[j][2]\n",
    "\n",
    "    curr_dict = {'protein':protein,\n",
    "        'RYGB':RYGB,\n",
    "                'SHAM':SHAM\n",
    "                }\n",
    "    \n",
    "    Master_list.append(curr_dict)\n",
    "    "
   ]
  },
  {
   "cell_type": "code",
   "execution_count": 5,
   "metadata": {},
   "outputs": [
    {
     "data": {
      "text/html": [
       "<div>\n",
       "<style scoped>\n",
       "    .dataframe tbody tr th:only-of-type {\n",
       "        vertical-align: middle;\n",
       "    }\n",
       "\n",
       "    .dataframe tbody tr th {\n",
       "        vertical-align: top;\n",
       "    }\n",
       "\n",
       "    .dataframe thead th {\n",
       "        text-align: right;\n",
       "    }\n",
       "</style>\n",
       "<table border=\"1\" class=\"dataframe\">\n",
       "  <thead>\n",
       "    <tr style=\"text-align: right;\">\n",
       "      <th></th>\n",
       "      <th>protein</th>\n",
       "      <th>RYGB</th>\n",
       "      <th>SHAM</th>\n",
       "    </tr>\n",
       "  </thead>\n",
       "  <tbody>\n",
       "    <tr>\n",
       "      <th>0</th>\n",
       "      <td>Tfrc</td>\n",
       "      <td>[58995.58730944913, 56665.446395003084, 38887....</td>\n",
       "      <td>[6654.748723909054, 5197.19164247816, 205.36, ...</td>\n",
       "    </tr>\n",
       "    <tr>\n",
       "      <th>1</th>\n",
       "      <td>Fam65b</td>\n",
       "      <td>[213025.22174361974, 116886.96385008053, 49842...</td>\n",
       "      <td>[2512408.873939551, 2233334.311090519, 3016884...</td>\n",
       "    </tr>\n",
       "    <tr>\n",
       "      <th>2</th>\n",
       "      <td>Scpep1</td>\n",
       "      <td>[163047.1737902113, 181772.88603035995, 82439....</td>\n",
       "      <td>[11230.657106128787, 41789.31413616105, 76793....</td>\n",
       "    </tr>\n",
       "    <tr>\n",
       "      <th>3</th>\n",
       "      <td>Fth1</td>\n",
       "      <td>[65452.31480097804, 59589.69217762027, 63468.4...</td>\n",
       "      <td>[754469.8055327837, 842997.3218800279, 705377....</td>\n",
       "    </tr>\n",
       "    <tr>\n",
       "      <th>4</th>\n",
       "      <td>Ociad2</td>\n",
       "      <td>[100710.38357873414, 96309.03308649099, 77965....</td>\n",
       "      <td>[54435.16205797873, 55557.06173366898, 88408.7...</td>\n",
       "    </tr>\n",
       "  </tbody>\n",
       "</table>\n",
       "</div>"
      ],
      "text/plain": [
       "  protein                                               RYGB  \\\n",
       "0    Tfrc  [58995.58730944913, 56665.446395003084, 38887....   \n",
       "1  Fam65b  [213025.22174361974, 116886.96385008053, 49842...   \n",
       "2  Scpep1  [163047.1737902113, 181772.88603035995, 82439....   \n",
       "3    Fth1  [65452.31480097804, 59589.69217762027, 63468.4...   \n",
       "4  Ociad2  [100710.38357873414, 96309.03308649099, 77965....   \n",
       "\n",
       "                                                SHAM  \n",
       "0  [6654.748723909054, 5197.19164247816, 205.36, ...  \n",
       "1  [2512408.873939551, 2233334.311090519, 3016884...  \n",
       "2  [11230.657106128787, 41789.31413616105, 76793....  \n",
       "3  [754469.8055327837, 842997.3218800279, 705377....  \n",
       "4  [54435.16205797873, 55557.06173366898, 88408.7...  "
      ]
     },
     "execution_count": 5,
     "metadata": {},
     "output_type": "execute_result"
    }
   ],
   "source": [
    "df =pd.DataFrame(Master_list)\n",
    "df.to_csv(\"SWATH_df.csv\")\n",
    "df.head()"
   ]
  },
  {
   "cell_type": "code",
   "execution_count": 6,
   "metadata": {},
   "outputs": [],
   "source": [
    "pd.DataFrame(Master_list).to_pickle('swath_lod.p')"
   ]
  },
  {
   "cell_type": "code",
   "execution_count": null,
   "metadata": {},
   "outputs": [],
   "source": []
  }
 ],
 "metadata": {
  "kernelspec": {
   "display_name": "Python 3",
   "language": "python",
   "name": "python3"
  },
  "language_info": {
   "codemirror_mode": {
    "name": "ipython",
    "version": 3
   },
   "file_extension": ".py",
   "mimetype": "text/x-python",
   "name": "python",
   "nbconvert_exporter": "python",
   "pygments_lexer": "ipython3",
   "version": "3.7.1"
  }
 },
 "nbformat": 4,
 "nbformat_minor": 2
}
