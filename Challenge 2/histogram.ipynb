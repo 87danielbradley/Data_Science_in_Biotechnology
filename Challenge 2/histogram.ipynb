{
 "cells": [
  {
   "cell_type": "markdown",
   "metadata": {},
   "source": [
    "### I created a histogram for the pvalue calculated from each ttest comparing the SHAM and RYGB.  The initial histogram is flat which could mean the data is not significant.  However when we increase the number of bins we see that there is a spike in the low pvalues which shows they are significant and not random."
   ]
  },
  {
   "cell_type": "code",
   "execution_count": 1,
   "metadata": {},
   "outputs": [],
   "source": [
    "#Dependencies\n",
    "import pandas as pd\n",
    "import matplotlib.pyplot as plt"
   ]
  },
  {
   "cell_type": "code",
   "execution_count": 2,
   "metadata": {},
   "outputs": [],
   "source": [
    "file = pd.ExcelFile('SWATH_rawdata.xlsx')"
   ]
  },
  {
   "cell_type": "code",
   "execution_count": 3,
   "metadata": {},
   "outputs": [],
   "source": [
    "SWATH_df=pd.read_excel('SWATH_rawdata.xlsx',sheet_name = 'Calculations', header = 0)\n",
    "SWATH_matrix = SWATH_df.values"
   ]
  },
  {
   "cell_type": "code",
   "execution_count": 5,
   "metadata": {},
   "outputs": [],
   "source": [
    "reduced_SWATH = SWATH_df[[\"Protein name\",\"T Test\"]]"
   ]
  },
  {
   "cell_type": "code",
   "execution_count": 6,
   "metadata": {},
   "outputs": [
    {
     "data": {
      "text/html": [
       "<div>\n",
       "<style scoped>\n",
       "    .dataframe tbody tr th:only-of-type {\n",
       "        vertical-align: middle;\n",
       "    }\n",
       "\n",
       "    .dataframe tbody tr th {\n",
       "        vertical-align: top;\n",
       "    }\n",
       "\n",
       "    .dataframe thead th {\n",
       "        text-align: right;\n",
       "    }\n",
       "</style>\n",
       "<table border=\"1\" class=\"dataframe\">\n",
       "  <thead>\n",
       "    <tr style=\"text-align: right;\">\n",
       "      <th></th>\n",
       "      <th>Protein name</th>\n",
       "      <th>T Test</th>\n",
       "    </tr>\n",
       "  </thead>\n",
       "  <tbody>\n",
       "    <tr>\n",
       "      <th>0</th>\n",
       "      <td>Ferritin</td>\n",
       "      <td>6.210134e-10</td>\n",
       "    </tr>\n",
       "    <tr>\n",
       "      <th>1</th>\n",
       "      <td>Protein FAM65B</td>\n",
       "      <td>3.456652e-08</td>\n",
       "    </tr>\n",
       "    <tr>\n",
       "      <th>2</th>\n",
       "      <td>Transferrin receptor protein 1 (Transferrin re...</td>\n",
       "      <td>1.324632e-06</td>\n",
       "    </tr>\n",
       "    <tr>\n",
       "      <th>3</th>\n",
       "      <td>NADH dehydrogenase [ubiquinone] flavoprotein 2...</td>\n",
       "      <td>6.002921e-05</td>\n",
       "    </tr>\n",
       "    <tr>\n",
       "      <th>4</th>\n",
       "      <td>Retinoid-inducible serine carboxypeptidase (EC...</td>\n",
       "      <td>1.853614e-04</td>\n",
       "    </tr>\n",
       "  </tbody>\n",
       "</table>\n",
       "</div>"
      ],
      "text/plain": [
       "                                        Protein name        T Test\n",
       "0                                           Ferritin  6.210134e-10\n",
       "1                                     Protein FAM65B  3.456652e-08\n",
       "2  Transferrin receptor protein 1 (Transferrin re...  1.324632e-06\n",
       "3  NADH dehydrogenase [ubiquinone] flavoprotein 2...  6.002921e-05\n",
       "4  Retinoid-inducible serine carboxypeptidase (EC...  1.853614e-04"
      ]
     },
     "execution_count": 6,
     "metadata": {},
     "output_type": "execute_result"
    }
   ],
   "source": [
    "reduced_SWATH = reduced_SWATH.dropna()\n",
    "reduced_SWATH=reduced_SWATH.sort_values(by=\"T Test\").reset_index(drop=True)\n",
    "reduced_SWATH.head()"
   ]
  },
  {
   "cell_type": "code",
   "execution_count": 7,
   "metadata": {
    "scrolled": true
   },
   "outputs": [
    {
     "data": {
      "image/png": "[encoded data removed]",
      "text/plain": [
       "<Figure size 432x288 with 1 Axes>"
      ]
     },
     "metadata": {
      "needs_background": "light"
     },
     "output_type": "display_data"
    }
   ],
   "source": [
    "plt.hist(reduced_SWATH['T Test'])\n",
    "plt.xlabel('experiments')\n",
    "plt.ylabel('pvalue')\n",
    "plt.savefig('images/ttesthist.png')\n",
    "plt.show()"
   ]
  },
  {
   "cell_type": "code",
   "execution_count": 8,
   "metadata": {
    "scrolled": true
   },
   "outputs": [
    {
     "data": {
      "image/png": "[encoded data removed]",
      "text/plain": [
       "<Figure size 432x288 with 1 Axes>"
      ]
     },
     "metadata": {
      "needs_background": "light"
     },
     "output_type": "display_data"
    }
   ],
   "source": [
    "plt.hist(reduced_SWATH['T Test'],bins=50)\n",
    "plt.xlabel('experiments')\n",
    "plt.ylabel('pvalue')\n",
    "plt.savefig('images/ttesthist50bins.png')\n",
    "plt.show()"
   ]
  },
  {
   "cell_type": "code",
   "execution_count": 9,
   "metadata": {},
   "outputs": [],
   "source": [
    "reduced_SWATH.to_csv('SWATH_df.csv')"
   ]
  },
  {
   "cell_type": "code",
   "execution_count": null,
   "metadata": {},
   "outputs": [],
   "source": []
  }
 ],
 "metadata": {
  "kernelspec": {
   "display_name": "Python 3",
   "language": "python",
   "name": "python3"
  },
  "language_info": {
   "codemirror_mode": {
    "name": "ipython",
    "version": 3
   },
   "file_extension": ".py",
   "mimetype": "text/x-python",
   "name": "python",
   "nbconvert_exporter": "python",
   "pygments_lexer": "ipython3",
   "version": "3.7.1"
  }
 },
 "nbformat": 4,
 "nbformat_minor": 2
}
