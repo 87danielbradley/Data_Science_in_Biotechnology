{
 "cells": [
  {
   "cell_type": "code",
   "execution_count": 1,
   "metadata": {},
   "outputs": [],
   "source": [
    "import matplotlib.pyplot as plt"
   ]
  },
  {
   "cell_type": "code",
   "execution_count": 2,
   "metadata": {},
   "outputs": [],
   "source": [
    "import pandas as pd"
   ]
  },
  {
   "cell_type": "code",
   "execution_count": 3,
   "metadata": {},
   "outputs": [],
   "source": [
    "import numpy as np"
   ]
  },
  {
   "cell_type": "code",
   "execution_count": 4,
   "metadata": {},
   "outputs": [],
   "source": [
    "import seaborn as sns"
   ]
  },
  {
   "cell_type": "code",
   "execution_count": 5,
   "metadata": {},
   "outputs": [],
   "source": [
    "file = pd.ExcelFile('SWATH_rawdata.xlsx')"
   ]
  },
  {
   "cell_type": "code",
   "execution_count": 6,
   "metadata": {},
   "outputs": [],
   "source": [
    "SWATH_df=pd.read_excel('SWATH_rawdata.xlsx',sheet_name = 'Calculations', header = None)\n",
    "SWATH_matrix = SWATH_df.values"
   ]
  },
  {
   "cell_type": "code",
   "execution_count": 7,
   "metadata": {},
   "outputs": [
    {
     "data": {
      "image/png": "[encoded data removed]",
      "text/plain": [
       "<Figure size 432x288 with 1 Axes>"
      ]
     },
     "metadata": {
      "needs_background": "light"
     },
     "output_type": "display_data"
    }
   ],
   "source": [
    "for j in range(1379):\n",
    "    if SWATH_matrix[j+1,28]<0.05:\n",
    "        for i in range (5):\n",
    "            RYGB = np.array(SWATH_matrix[i+1,3:9])\n",
    "            SHAM = np.array(SWATH_matrix[i+1,9:15])\n",
    "    \n",
    "            bacon =[]\n",
    "            bacon2 = ['RYGB','RYGB','RYGB','RYGB','RYGB','RYGB','SHAM','SHAM','SHAM','SHAM','SHAM','SHAM']\n",
    "            for j in range(6):\n",
    "        \n",
    "                bacon.append(RYGB[j])\n",
    "                bacon.append(SHAM[j])\n",
    "            dataset = pd.DataFrame({'Type':bacon2,'Score':bacon})\n",
    "    \n",
    "            \n",
    "            ax = sns.swarmplot (x = \"Type\", y = \"Score\", data = dataset)\n",
    "            plt.title(SWATH_matrix[i+1,2])\n",
    "            plt.savefig(SWATH_matrix[1+i,2]+'.png')"
   ]
  },
  {
   "cell_type": "code",
   "execution_count": null,
   "metadata": {},
   "outputs": [],
   "source": []
  }
 ],
 "metadata": {
  "kernelspec": {
   "display_name": "Python 3",
   "language": "python",
   "name": "python3"
  },
  "language_info": {
   "codemirror_mode": {
    "name": "ipython",
    "version": 3
   },
   "file_extension": ".py",
   "mimetype": "text/x-python",
   "name": "python",
   "nbconvert_exporter": "python",
   "pygments_lexer": "ipython3",
   "version": "3.7.1"
  }
 },
 "nbformat": 4,
 "nbformat_minor": 2
}
